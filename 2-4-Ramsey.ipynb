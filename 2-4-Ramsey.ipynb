{
 "cells": [
  {
   "cell_type": "markdown",
   "metadata": {},
   "source": [
    "# ラムゼイモデル\n",
    "\n",
    "[蓮見 (2020)](https://www.nippyo.co.jp/shop/book/8267.html) §2.4 を元にしています。解き方は教科書の指示通りですが、技術進歩・人口成長を考慮できるようにモデルの仮定に少しだけ変更を加えています。\n",
    "\n",
    "有名なモデルなので、適当な教科書を選んで丁寧に読めばここのモデルも再構築できて、[蓮見 (2020)](https://www.nippyo.co.jp/shop/book/8267.html) の説明もあながち特殊な仮定をおいている訳ではないと理解できると思います。ただ、離散時間ラムゼイモデルの説明はそもそもないか、あっても $\\delta$, $g$, $n$ のどれかが省略されたりするので、「変数省略が手計算を簡単にするだけの仮定である」と納得できるまでには少し時間がかかるかもしれない。\n",
    "\n",
    "一応、ここでも簡単にだけ説明しておきますが、すでに知っている人には分かるというくらいの説明になっていると思います。知らない人が理解するための説明がほしい、でも教科書を読むのは面倒だという人は [佐藤の講義ノート](https://github.com/kenjisato/MaD/blob/master/Lecture%20Notes/ch08.pdf) などを参照してください。\n",
    "\n",
    "## 簡単な解説\n",
    "\n",
    "効率労働1単位あたりの資本 $k$ と効率労働1単位あたりの消費 $c$ を\n",
    "\n",
    "$$\n",
    "k = \\frac{K}{AL}, \\quad c = \\frac{c}{AL}, \n",
    "$$\n",
    "\n",
    "と定義する。総生産関数 $(K, L, A) \\mapsto Y$ が $(K, L)$ について1次同次で、技術 $A$ の成長が労働節約的であれば、効率労働1単位あたりの資本 $k$ から、効率労働1単位あたりの生産 $y = Y/(AL)$ を対応付ける関数を定義できる。つまり、\n",
    "\n",
    "$$\n",
    "y = f(k)\n",
    "$$\n",
    "\n",
    "この関数は $f(0) = 0$, $f'(k) > 0$, $f''(k) < 0$ などのオーソドックスな生産関数の仮定を満たすものとする。端点条件を排除するために、原点での微係数は十分大きくて、無限遠点での微係数は十分小さいものとする（稲田条件は便利だけど必要ではない）。もともとの生産関数 $Y = F(K, AL)$ がコブ=ダグラス型 $Y = K^\\alpha(AL)^{1-\\alpha}$ であれば、$f(k) = k^\\alpha$ となり、「オーソドックスな仮定」と稲田条件が成り立つ。\n",
    "\n",
    "\n",
    "効用関数は CRRA型 \n",
    "\n",
    "$$\n",
    "u(x) = \\frac{x^{1-\\theta} - 1}{1-\\theta},\\qquad \\theta > 0\n",
    "$$\n",
    "\n",
    "とする。実際には「効率労働1単位あたりの消費」から効用を得るのではなくて「労働1単位あたりの消費」 $C/L$ から効用を得るものとしてモデルを組み立てる。さらに、マクロ経済には $L$ 人の人がいるので、マクロの効用は $L u(C/L)$ である。このような考えの元で、効用の割引現在価値の総和を計算してオイラー条件を求める。\n",
    "\n",
    "解くべき方程式は以下のようになる。1本目は資本蓄積の方程式で、ソロ−モデルの動学方程式と基本的には同じもの。貯蓄率が内生化されているので投資は $f(k_{t}) - c_{t}$ 担っている。2本目は消費の異時点間の最適化から出てくるオイラー条件。\n",
    "\n",
    "$$\n",
    "\\begin{aligned}\n",
    "k_{t+1} &= \\frac{f(k_{t})-c_{t}+(1-\\delta)k_{t}}{(1+g)(1+n)}\\\\\n",
    "c_{t+1}\n",
    "&= c_{t}\\left[\\frac{\\left\\{ \\beta(1+f'(k_{t+1}) - \\delta)\\right\\} ^{1/\\theta}}{1+g}\\right]\n",
    "\\end{aligned}\n",
    "$$\n",
    "\n",
    "この問題の初期時点 $t = 0$ における値は、状態変数である $k_0 = K_0/(A_0 L_0)$ の分だけが既知であり、ジャンプ変数である $c_0$ についてはモデルの解として解く必要がある。\n",
    "\n",
    "\n",
    "[蓮見 (2020)](https://www.nippyo.co.jp/shop/book/8267.html) §2.4 に書かれている方法は、上記の2つの方程式に $t = 0, \\dots, T-1$ を代入し $2T$本の連立方程式と見た上で、内生変数 $k_0,\\dots,k_{T}$ および $c_0,\\dots,c_T$ のうち初期条件 $k_0$ と終端条件 $c_T$ を与えて方程式を解こうというものである。\n",
    "\n",
    "$$\n",
    "\\begin{bmatrix}\n",
    "k_0 = \\text{given} & c_0 \\\\\n",
    "k_1 & c_1\\\\\n",
    "k_2 & c_2\\\\\n",
    "\\vdots & \\vdots \\\\\n",
    "k_T & c_T = c^*\n",
    "\\end{bmatrix}\n",
    "$$\n",
    "\n",
    "終端条件 $c^*$ は定常状態として求める。定常状態への収束性の議論は第6章に持ち越される。\n",
    "\n",
    "## シミュレーション\n",
    "\n",
    "ここで紹介されているテクニックは、方程式を解けば一気にすべての期の内生変数の値が求まる構造になっている。ソローモデルでやったような `for` ループによる繰り返し計算は出てこない。（ベルマン方程式から policy function を求めるアプローチは第6章）\n"
   ]
  },
  {
   "cell_type": "code",
   "execution_count": 1,
   "metadata": {},
   "outputs": [],
   "source": [
    "import numpy as np\n",
    "from scipy.optimize import fsolve\n",
    "import matplotlib.pyplot as plt\n",
    "import sympy as sp\n",
    "sp.init_printing()"
   ]
  },
  {
   "cell_type": "code",
   "execution_count": 2,
   "metadata": {},
   "outputs": [],
   "source": [
    "ka, kt, ca, ct, g, n = sp.symbols(\"k_{t+1}, k_{t}, c_{t+1}, c_{t}, g, n\")\n",
    "alpha, beta, delta, theta = sp.symbols(\"alpha beta delta theta\")"
   ]
  },
  {
   "cell_type": "code",
   "execution_count": 3,
   "metadata": {},
   "outputs": [
    {
     "data": {
      "image/png": "[encoded data removed]",
      "text/latex": [
       "$\\displaystyle k_{t}^{\\alpha}$"
      ],
      "text/plain": [
       "     α\n",
       "k_{t} "
      ]
     },
     "execution_count": 3,
     "metadata": {},
     "output_type": "execute_result"
    }
   ],
   "source": [
    "f = sp.Lambda(kt, kt**alpha)\n",
    "f(kt)"
   ]
  },
  {
   "cell_type": "code",
   "execution_count": 4,
   "metadata": {},
   "outputs": [
    {
     "data": {
      "image/png": "[encoded data removed]",
      "text/latex": [
       "$\\displaystyle k_{t+1} - \\frac{- c_{t} + k_{t} \\left(1 - \\delta\\right) + k_{t}^{\\alpha}}{\\left(g + 1\\right) \\left(n + 1\\right)}$"
      ],
      "text/plain": [
       "                                        α\n",
       "          -c_{t} + k_{t}⋅(1 - δ) + k_{t} \n",
       "k_{t+1} - ───────────────────────────────\n",
       "                  (g + 1)⋅(n + 1)        "
      ]
     },
     "execution_count": 4,
     "metadata": {},
     "output_type": "execute_result"
    }
   ],
   "source": [
    "EK = ka - (f(kt) - ct + (1 - delta) * kt) / (1 + g) / (1 + n) \n",
    "EK"
   ]
  },
  {
   "cell_type": "code",
   "execution_count": 5,
   "metadata": {},
   "outputs": [
    {
     "data": {
      "image/png": "[encoded data removed]",
      "text/latex": [
       "$\\displaystyle c_{t+1} - \\frac{c_{t} \\left(\\beta \\left(\\frac{\\alpha k_{t+1}^{\\alpha}}{k_{t+1}} - \\delta + 1\\right)\\right)^{\\frac{1}{\\theta}}}{g + 1}$"
      ],
      "text/plain": [
       "                        ________________________\n",
       "                       ╱   ⎛         α        ⎞ \n",
       "                      ╱    ⎜α⋅k_{t+1}         ⎟ \n",
       "          c_{t}⋅theta╱   β⋅⎜────────── - δ + 1⎟ \n",
       "                   ╲╱      ⎝ k_{t+1}          ⎠ \n",
       "c_{t+1} - ──────────────────────────────────────\n",
       "                          g + 1                 "
      ]
     },
     "execution_count": 5,
     "metadata": {},
     "output_type": "execute_result"
    }
   ],
   "source": [
    "EC = ca - ct * (beta * (f(ka).diff(ka) + 1 - delta)) ** (1 / theta) / (1 + g)\n",
    "EC"
   ]
  },
  {
   "cell_type": "code",
   "execution_count": 6,
   "metadata": {},
   "outputs": [
    {
     "data": {
      "image/png": "[encoded data removed]",
      "text/latex": [
       "$\\displaystyle \\left[\\begin{matrix}k_{t} - \\frac{- c_{t} + k_{t} \\left(1 - \\delta\\right) + k_{t}^{\\alpha}}{\\left(g + 1\\right) \\left(n + 1\\right)}\\\\- \\frac{c_{t} \\left(\\beta \\left(\\frac{\\alpha k_{t}^{\\alpha}}{k_{t}} - \\delta + 1\\right)\\right)^{\\frac{1}{\\theta}}}{g + 1} + c_{t}\\end{matrix}\\right]$"
      ],
      "text/plain": [
       "⎡                                         α    ⎤\n",
       "⎢           -c_{t} + k_{t}⋅(1 - δ) + k_{t}     ⎥\n",
       "⎢   k_{t} - ───────────────────────────────    ⎥\n",
       "⎢                   (g + 1)⋅(n + 1)            ⎥\n",
       "⎢                                              ⎥\n",
       "⎢                ______________________        ⎥\n",
       "⎢               ╱   ⎛       α        ⎞         ⎥\n",
       "⎢              ╱    ⎜α⋅k_{t}         ⎟         ⎥\n",
       "⎢  c_{t}⋅theta╱   β⋅⎜──────── - δ + 1⎟         ⎥\n",
       "⎢           ╲╱      ⎝ k_{t}          ⎠         ⎥\n",
       "⎢- ──────────────────────────────────── + c_{t}⎥\n",
       "⎣                 g + 1                        ⎦"
      ]
     },
     "execution_count": 6,
     "metadata": {},
     "output_type": "execute_result"
    }
   ],
   "source": [
    "E = sp.Matrix([EK, EC]).subs({ka: kt, ca: ct})\n",
    "E"
   ]
  },
  {
   "cell_type": "code",
   "execution_count": 7,
   "metadata": {},
   "outputs": [],
   "source": [
    "params = {\n",
    "    alpha: 0.33,\n",
    "    delta: 0.03,\n",
    "    g: 0.02,\n",
    "    n: 0.01,\n",
    "    theta: 0.8,\n",
    "    beta: 0.98\n",
    "}"
   ]
  },
  {
   "cell_type": "code",
   "execution_count": 11,
   "metadata": {},
   "outputs": [],
   "source": [
    "def solve_ss(eqm_k, eqm_c, param, x0):\n",
    "    c, k = sp.symbols(\"c, k\")\n",
    "    eqm = sp.Matrix([eqm_k.subs({kt: k, ka: k, ct: c, ca: c}),\n",
    "                     eqm_c.subs({kt: k, ka: k, ct: c, ca: c})])\n",
    "    \n",
    "    eqm_lam = sp.lambdify([[k, c]], np.squeeze(eqm.subs(param)))\n",
    "    J_lam = sp.lambdify([[k, c]], eqm.jacobian([k, c]).subs(param))\n",
    "    \n",
    "    ss = fsolve(func=eqm_lam, x0=x0, fprime=J_lam)\n",
    "    return ss\n",
    "\n",
    "\n",
    "def solve_optimal_growth(eqm_k, eqm_c, k_init, c_final, param, T):\n",
    "    \n",
    "    c = sp.symbols(f\"c[:{T+1}]\")\n",
    "    k = sp.symbols(f\"k[:{T+1}]\")\n",
    "    eqm = sp.Matrix([[eqm_k.subs({kt: k[i], ka: k[i+1], ct: c[i], ca: c[i+1]}),\n",
    "                      eqm_c.subs({kt: k[i], ka: k[i+1], ct: c[i], ca: c[i+1]})] \n",
    "                      for i in range(T)])\n",
    "    eqm_col = eqm.T.reshape(2*T, 1)\n",
    "    \n",
    "    eqm_param = eqm_col.subs(param).subs({k[0]: k_init, c[-1]: c_final})\n",
    "    eqm_param = np.squeeze(eqm_param)\n",
    "    \n",
    "    eqm_num = sp.lambdify([[*k[1:], *c[:-1]]], eqm_param)\n",
    "    solution = fsolve(eqm_num, x0=np.ones(2*T))\n",
    "    \n",
    "    k_sol = np.r_[k_init, solution[:T]]\n",
    "    c_sol = np.r_[solution[T:], c_final]\n",
    "    \n",
    "    return (k_sol, c_sol)"
   ]
  },
  {
   "cell_type": "code",
   "execution_count": 12,
   "metadata": {},
   "outputs": [
    {
     "data": {
      "text/plain": [
       "array([10.87371171,  1.54328611])"
      ]
     },
     "execution_count": 12,
     "metadata": {},
     "output_type": "execute_result"
    }
   ],
   "source": [
    "ss1 = solve_ss(EK, EC, params, x0=[4, 4])\n",
    "ss1"
   ]
  },
  {
   "cell_type": "code",
   "execution_count": 14,
   "metadata": {},
   "outputs": [],
   "source": [
    "k_sol, c_sol = solve_optimal_growth(EK, EC, 1.0, ss1[1], params, 80)"
   ]
  },
  {
   "cell_type": "code",
   "execution_count": 15,
   "metadata": {},
   "outputs": [
    {
     "data": {
      "image/png": "[encoded data removed]",
      "text/plain": [
       "<Figure size 432x288 with 1 Axes>"
      ]
     },
     "metadata": {
      "needs_background": "light"
     },
     "output_type": "display_data"
    }
   ],
   "source": [
    "plt.quiver(k_sol[:-1], c_sol[:-1], \n",
    "           k_sol[1:] - k_sol[:-1], \n",
    "           c_sol[1:] - c_sol[:-1],\n",
    "           scale_units='xy', angles='xy', scale=1)\n",
    "\n",
    "plt.xlabel(r\"$k_{t}$\")\n",
    "plt.ylabel(r\"$c_{t}$\")\n",
    "plt.show()"
   ]
  },
  {
   "cell_type": "code",
   "execution_count": 16,
   "metadata": {},
   "outputs": [
    {
     "data": {
      "text/plain": [
       "[<matplotlib.lines.Line2D at 0x7f986136a550>]"
      ]
     },
     "execution_count": 16,
     "metadata": {},
     "output_type": "execute_result"
    },
    {
     "data": {
      "image/png": "[encoded data removed]",
      "text/plain": [
       "<Figure size 432x288 with 1 Axes>"
      ]
     },
     "metadata": {
      "needs_background": "light"
     },
     "output_type": "display_data"
    }
   ],
   "source": [
    "plt.plot(k_sol)"
   ]
  },
  {
   "cell_type": "code",
   "execution_count": 17,
   "metadata": {},
   "outputs": [
    {
     "data": {
      "text/plain": [
       "[<matplotlib.lines.Line2D at 0x7f98380be290>]"
      ]
     },
     "execution_count": 17,
     "metadata": {},
     "output_type": "execute_result"
    },
    {
     "data": {
      "image/png": "[encoded data removed]",
      "text/plain": [
       "<Figure size 432x288 with 1 Axes>"
      ]
     },
     "metadata": {
      "needs_background": "light"
     },
     "output_type": "display_data"
    }
   ],
   "source": [
    "plt.plot(c_sol)"
   ]
  },
  {
   "cell_type": "code",
   "execution_count": null,
   "metadata": {},
   "outputs": [],
   "source": []
  }
 ],
 "metadata": {
  "kernelspec": {
   "display_name": "Python 3",
   "language": "python",
   "name": "python3"
  },
  "language_info": {
   "codemirror_mode": {
    "name": "ipython",
    "version": 3
   },
   "file_extension": ".py",
   "mimetype": "text/x-python",
   "name": "python",
   "nbconvert_exporter": "python",
   "pygments_lexer": "ipython3",
   "version": "3.7.6"
  }
 },
 "nbformat": 4,
 "nbformat_minor": 4
}
